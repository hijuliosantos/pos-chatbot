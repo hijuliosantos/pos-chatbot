{
  "nbformat": 4,
  "nbformat_minor": 0,
  "metadata": {
    "colab": {
      "name": "AtividadeNLP.ipynb",
      "provenance": [],
      "collapsed_sections": [],
      "authorship_tag": "ABX9TyOvecVRtpkHrCEX2vTdAoqo",
      "include_colab_link": true
    },
    "kernelspec": {
      "name": "python3",
      "display_name": "Python 3"
    }
  },
  "cells": [
    {
      "cell_type": "markdown",
      "metadata": {
        "id": "view-in-github",
        "colab_type": "text"
      },
      "source": [
        "<a href=\"https://colab.research.google.com/github/hijuliosantos/pos-chatbot/blob/main/AtividadeNLP.ipynb\" target=\"_parent\"><img src=\"https://colab.research.google.com/assets/colab-badge.svg\" alt=\"Open In Colab\"/></a>"
      ]
    },
    {
      "cell_type": "markdown",
      "metadata": {
        "id": "gmS5xUAKMBom"
      },
      "source": [
        "Este trabalho tem como objetivo realizar a predição de avaliações positivas ou negativas de filmes, utilizando a base de dados imdb.csv. Serão utilizadas as bibliotecas NLTK, Regex e BeaultifulSoup para o pre-processameto das avaliações.\r\n",
        "\r\n",
        "Será feita uma avaliação dividindo a base em treino e teste na proporção 80/20. Após isto, será calculada a acurácia para os seguintes modelo,s com o objtivo de verificar qual irá performar melhor:\r\n",
        "\r\n",
        "\r\n",
        "1.   Regressão logística da biblioteca sklearn (ótima para classificação binária)\r\n",
        "2.   SentimentIntensityAnalyzer da biblioteca NLTK\r\n",
        "\r\n",
        "\r\n",
        "\r\n",
        "\r\n",
        "\r\n",
        "\r\n",
        "\r\n"
      ]
    },
    {
      "cell_type": "code",
      "metadata": {
        "id": "0Z4nJlFHAmAX"
      },
      "source": [
        "import matplotlib.pyplot as plt\r\n",
        "import seaborn as sns\r\n",
        "import pandas as pd\r\n",
        "import numpy as np\r\n",
        "import io\r\n",
        "import re\r\n",
        "\r\n",
        "from bs4 import BeautifulSoup\r\n",
        "from sklearn.model_selection import train_test_split\r\n",
        "from sklearn.feature_extraction.text import CountVectorizer, TfidfVectorizer\r\n",
        "from sklearn.metrics import accuracy_score, confusion_matrix\r\n",
        "from sklearn.linear_model import LogisticRegression # "
      ],
      "execution_count": null,
      "outputs": []
    },
    {
      "cell_type": "code",
      "metadata": {
        "colab": {
          "base_uri": "https://localhost:8080/"
        },
        "id": "WZ67OKieyN9k",
        "outputId": "e495afaf-1d3b-418e-ae08-bc574ceeb40d"
      },
      "source": [
        "import nltk\r\n",
        "nltk.download(['stopwords', 'wordnet', 'vader_lexicon', 'punkt'])\r\n",
        "\r\n",
        "from nltk import word_tokenize, FreqDist\r\n",
        "from nltk.corpus import stopwords\r\n",
        "from nltk.stem import WordNetLemmatizer\r\n",
        "from nltk.stem.snowball import SnowballStemmer\r\n",
        "from nltk.sentiment import SentimentIntensityAnalyzer"
      ],
      "execution_count": null,
      "outputs": [
        {
          "output_type": "stream",
          "text": [
            "[nltk_data] Downloading package stopwords to /root/nltk_data...\n",
            "[nltk_data]   Package stopwords is already up-to-date!\n",
            "[nltk_data] Downloading package wordnet to /root/nltk_data...\n",
            "[nltk_data]   Package wordnet is already up-to-date!\n",
            "[nltk_data] Downloading package vader_lexicon to /root/nltk_data...\n",
            "[nltk_data]   Package vader_lexicon is already up-to-date!\n",
            "[nltk_data] Downloading package punkt to /root/nltk_data...\n",
            "[nltk_data]   Package punkt is already up-to-date!\n"
          ],
          "name": "stdout"
        },
        {
          "output_type": "stream",
          "text": [
            "/usr/local/lib/python3.7/dist-packages/nltk/twitter/__init__.py:20: UserWarning: The twython library has not been installed. Some functionality from the twitter package will not be available.\n",
            "  warnings.warn(\"The twython library has not been installed. \"\n"
          ],
          "name": "stderr"
        }
      ]
    },
    {
      "cell_type": "markdown",
      "metadata": {
        "id": "vYOojl9uQunm"
      },
      "source": [
        "Leitura dos dados disponibilizados"
      ]
    },
    {
      "cell_type": "code",
      "metadata": {
        "id": "QEYvuisK2VUQ"
      },
      "source": [
        "review = []\r\n",
        "sentiment = []\r\n",
        "with open('imdb.csv', 'r') as f:\r\n",
        "  for line in f:\r\n",
        "    line = line.replace(';','')\r\n",
        "    review.append(line[0:line.rfind(',')])\r\n",
        "    sentiment.append(line[line.rfind(',')+1:].strip().replace('\"', ''))\r\n",
        "\r\n",
        "df_imdb = pd.DataFrame()\r\n",
        "df_imdb['review'] = review\r\n",
        "df_imdb['sentiment'] = sentiment\r\n",
        "\r\n",
        "df_imdb = df_imdb.iloc[1:]"
      ],
      "execution_count": null,
      "outputs": []
    },
    {
      "cell_type": "markdown",
      "metadata": {
        "id": "tNVxEp2pQ3y9"
      },
      "source": [
        "Pequena análise exploratória nos dados"
      ]
    },
    {
      "cell_type": "code",
      "metadata": {
        "colab": {
          "base_uri": "https://localhost:8080/",
          "height": 376
        },
        "id": "L0awvIlv3wg_",
        "outputId": "bdfa7ba4-2ee1-4ce1-e444-d1032c9ae0ed"
      },
      "source": [
        "print(df_imdb.shape)\r\n",
        "df_imdb.head(10)"
      ],
      "execution_count": null,
      "outputs": [
        {
          "output_type": "stream",
          "text": [
            "(50000, 2)\n"
          ],
          "name": "stdout"
        },
        {
          "output_type": "execute_result",
          "data": {
            "text/html": [
              "<div>\n",
              "<style scoped>\n",
              "    .dataframe tbody tr th:only-of-type {\n",
              "        vertical-align: middle;\n",
              "    }\n",
              "\n",
              "    .dataframe tbody tr th {\n",
              "        vertical-align: top;\n",
              "    }\n",
              "\n",
              "    .dataframe thead th {\n",
              "        text-align: right;\n",
              "    }\n",
              "</style>\n",
              "<table border=\"1\" class=\"dataframe\">\n",
              "  <thead>\n",
              "    <tr style=\"text-align: right;\">\n",
              "      <th></th>\n",
              "      <th>review</th>\n",
              "      <th>sentiment</th>\n",
              "    </tr>\n",
              "  </thead>\n",
              "  <tbody>\n",
              "    <tr>\n",
              "      <th>1</th>\n",
              "      <td>One of the other reviewers has mentioned that ...</td>\n",
              "      <td>positive</td>\n",
              "    </tr>\n",
              "    <tr>\n",
              "      <th>2</th>\n",
              "      <td>\"A wonderful little production. &lt;br /&gt;&lt;br /&gt;Th...</td>\n",
              "      <td>positive</td>\n",
              "    </tr>\n",
              "    <tr>\n",
              "      <th>3</th>\n",
              "      <td>\"I thought this was a wonderful way to spend t...</td>\n",
              "      <td>positive</td>\n",
              "    </tr>\n",
              "    <tr>\n",
              "      <th>4</th>\n",
              "      <td>Basically there's a family where a little boy ...</td>\n",
              "      <td>negative</td>\n",
              "    </tr>\n",
              "    <tr>\n",
              "      <th>5</th>\n",
              "      <td>\"Petter Mattei's \"\"Love in the Time of Money\"\"...</td>\n",
              "      <td>positive</td>\n",
              "    </tr>\n",
              "    <tr>\n",
              "      <th>6</th>\n",
              "      <td>\"Probably my all-time favorite movie, a story ...</td>\n",
              "      <td>positive</td>\n",
              "    </tr>\n",
              "    <tr>\n",
              "      <th>7</th>\n",
              "      <td>I sure would like to see a resurrection of a u...</td>\n",
              "      <td>positive</td>\n",
              "    </tr>\n",
              "    <tr>\n",
              "      <th>8</th>\n",
              "      <td>This show was an amazing, fresh &amp; innovative i...</td>\n",
              "      <td>negative</td>\n",
              "    </tr>\n",
              "    <tr>\n",
              "      <th>9</th>\n",
              "      <td>Encouraged by the positive comments about this...</td>\n",
              "      <td>negative</td>\n",
              "    </tr>\n",
              "    <tr>\n",
              "      <th>10</th>\n",
              "      <td>If you like original gut wrenching laughter yo...</td>\n",
              "      <td>positive</td>\n",
              "    </tr>\n",
              "  </tbody>\n",
              "</table>\n",
              "</div>"
            ],
            "text/plain": [
              "                                               review sentiment\n",
              "1   One of the other reviewers has mentioned that ...  positive\n",
              "2   \"A wonderful little production. <br /><br />Th...  positive\n",
              "3   \"I thought this was a wonderful way to spend t...  positive\n",
              "4   Basically there's a family where a little boy ...  negative\n",
              "5   \"Petter Mattei's \"\"Love in the Time of Money\"\"...  positive\n",
              "6   \"Probably my all-time favorite movie, a story ...  positive\n",
              "7   I sure would like to see a resurrection of a u...  positive\n",
              "8   This show was an amazing, fresh & innovative i...  negative\n",
              "9   Encouraged by the positive comments about this...  negative\n",
              "10  If you like original gut wrenching laughter yo...  positive"
            ]
          },
          "metadata": {
            "tags": []
          },
          "execution_count": 4
        }
      ]
    },
    {
      "cell_type": "code",
      "metadata": {
        "colab": {
          "base_uri": "https://localhost:8080/"
        },
        "id": "209IOeEILdgJ",
        "outputId": "614c63f1-dd67-4579-99cd-cd90b307107e"
      },
      "source": [
        "df_imdb.info()"
      ],
      "execution_count": null,
      "outputs": [
        {
          "output_type": "stream",
          "text": [
            "<class 'pandas.core.frame.DataFrame'>\n",
            "RangeIndex: 50000 entries, 1 to 50000\n",
            "Data columns (total 2 columns):\n",
            " #   Column     Non-Null Count  Dtype \n",
            "---  ------     --------------  ----- \n",
            " 0   review     50000 non-null  object\n",
            " 1   sentiment  50000 non-null  object\n",
            "dtypes: object(2)\n",
            "memory usage: 781.4+ KB\n"
          ],
          "name": "stdout"
        }
      ]
    },
    {
      "cell_type": "code",
      "metadata": {
        "colab": {
          "base_uri": "https://localhost:8080/"
        },
        "id": "gQLmT7Xo8Aye",
        "outputId": "4ecc58e1-810d-4856-e0e6-7a28b2dba7de"
      },
      "source": [
        "df_imdb['sentiment'].value_counts()"
      ],
      "execution_count": null,
      "outputs": [
        {
          "output_type": "execute_result",
          "data": {
            "text/plain": [
              "positive    25000\n",
              "negative    25000\n",
              "Name: sentiment, dtype: int64"
            ]
          },
          "metadata": {
            "tags": []
          },
          "execution_count": 6
        }
      ]
    },
    {
      "cell_type": "code",
      "metadata": {
        "colab": {
          "base_uri": "https://localhost:8080/",
          "height": 120
        },
        "id": "CMTju28kKJAx",
        "outputId": "e43d1943-baf8-4e17-9dbb-23c317b202c0"
      },
      "source": [
        "df_imdb['review'].loc[1]\r\n",
        "#<br /><br />"
      ],
      "execution_count": null,
      "outputs": [
        {
          "output_type": "execute_result",
          "data": {
            "application/vnd.google.colaboratory.intrinsic+json": {
              "type": "string"
            },
            "text/plain": [
              "\"One of the other reviewers has mentioned that after watching just 1 Oz episode you'll be hooked. They are right, as this is exactly what happened with me.<br /><br />The first thing that struck me about Oz was its brutality and unflinching scenes of violence, which set in right from the word GO. Trust me, this is not a show for the faint hearted or timid. This show pulls no punches with regards to drugs, sex or violence. Its is hardcore, in the classic use of the word.<br /><br />It is called OZ as that is the nickname given to the Oswald Maximum Security State Penitentary. It focuses mainly on Emerald City, an experimental section of the prison where all the cells have glass fronts and face inwards, so privacy is not high on the agenda. Em City is home to many..Aryans, Muslims, gangstas, Latinos, Christians, Italians, Irish and more....so scuffles, death stares, dodgy dealings and shady agreements are never far away.<br /><br />I would say the main appeal of the show is due to the fact that it goes where other shows wouldn't dare. Forget pretty pictures painted for mainstream audiences, forget charm, forget romance...OZ doesn't mess around. The first episode I ever saw struck me as so nasty it was surreal, I couldn't say I was ready for it, but as I watched more, I developed a taste for Oz, and got accustomed to the high levels of graphic violence. Not just violence, but injustice (crooked guards who'll be sold out for a nickel, inmates who'll kill on order and get away with it, well mannered, middle class inmates being turned into prison bitches due to their lack of street skills or prison experience) Watching Oz, you may become comfortable with what is uncomfortable viewing....thats if you can get in touch with your darker side.\""
            ]
          },
          "metadata": {
            "tags": []
          },
          "execution_count": 7
        }
      ]
    },
    {
      "cell_type": "code",
      "metadata": {
        "colab": {
          "base_uri": "https://localhost:8080/"
        },
        "id": "p1kvtQUg3eRi",
        "outputId": "8d23768f-500c-4e68-a378-dfefd364fb25"
      },
      "source": [
        "stop_words = set(stopwords.words('english'))\r\n",
        "lem = WordNetLemmatizer()\r\n",
        "stemmer = SnowballStemmer(\"english\") \r\n",
        "\r\n",
        "print('Normal:')\r\n",
        "review = df_imdb.iloc[1].review\r\n",
        "print(review)\r\n",
        "print()\r\n",
        "review = BeautifulSoup(review, \"html.parser\").get_text()\r\n",
        "print('BeautifulSoup:')\r\n",
        "print(review)\r\n",
        "print()\r\n",
        "review = review.lower()\r\n",
        "print('Lower:')\r\n",
        "print(review)\r\n",
        "print()\r\n",
        "review = re.sub('[^a-z0-9]', ' ', review)\r\n",
        "print('Regex a-z:')\r\n",
        "print(review)\r\n",
        "print()\r\n",
        "review = nltk.word_tokenize(review)\r\n",
        "review = [word for word in review if not word in stop_words]\r\n",
        "print('Remove stop_words:')\r\n",
        "print(review)\r\n",
        "print()\r\n",
        "review = [lem.lemmatize(word) for word in review]\r\n",
        "print('lemmatize')\r\n",
        "print(review)\r\n",
        "#review = [stemmer.stem(word) for word in review]\r\n",
        "#print('Stemming:')\r\n",
        "#print(review)\r\n",
        "print()\r\n",
        "review = ' '.join(review)\r\n",
        "print('Join:')\r\n",
        "print(review)\r\n",
        "print()"
      ],
      "execution_count": null,
      "outputs": [
        {
          "output_type": "stream",
          "text": [
            "Normal:\n",
            "\"A wonderful little production. <br /><br />The filming technique is very unassuming- very old-time-BBC fashion and gives a comforting, and sometimes discomforting, sense of realism to the entire piece. <br /><br />The actors are extremely well chosen- Michael Sheen not only \"\"has got all the polari\"\" but he has all the voices down pat too! You can truly see the seamless editing guided by the references to Williams' diary entries, not only is it well worth the watching but it is a terrificly written and performed piece. A masterful production about one of the great master's of comedy and his life. <br /><br />The realism really comes home with the little things: the fantasy of the guard which, rather than use the traditional 'dream' techniques remains solid then disappears. It plays on our knowledge and our senses, particularly with the scenes concerning Orton and Halliwell and the sets (particularly of their flat with Halliwell's murals decorating every surface) are terribly well done.\n",
            "\n",
            "BeautifulSoup:\n",
            "\"A wonderful little production. The filming technique is very unassuming- very old-time-BBC fashion and gives a comforting, and sometimes discomforting, sense of realism to the entire piece. The actors are extremely well chosen- Michael Sheen not only \"\"has got all the polari\"\" but he has all the voices down pat too! You can truly see the seamless editing guided by the references to Williams' diary entries, not only is it well worth the watching but it is a terrificly written and performed piece. A masterful production about one of the great master's of comedy and his life. The realism really comes home with the little things: the fantasy of the guard which, rather than use the traditional 'dream' techniques remains solid then disappears. It plays on our knowledge and our senses, particularly with the scenes concerning Orton and Halliwell and the sets (particularly of their flat with Halliwell's murals decorating every surface) are terribly well done.\n",
            "\n",
            "Lower:\n",
            "\"a wonderful little production. the filming technique is very unassuming- very old-time-bbc fashion and gives a comforting, and sometimes discomforting, sense of realism to the entire piece. the actors are extremely well chosen- michael sheen not only \"\"has got all the polari\"\" but he has all the voices down pat too! you can truly see the seamless editing guided by the references to williams' diary entries, not only is it well worth the watching but it is a terrificly written and performed piece. a masterful production about one of the great master's of comedy and his life. the realism really comes home with the little things: the fantasy of the guard which, rather than use the traditional 'dream' techniques remains solid then disappears. it plays on our knowledge and our senses, particularly with the scenes concerning orton and halliwell and the sets (particularly of their flat with halliwell's murals decorating every surface) are terribly well done.\n",
            "\n",
            "Regex a-z:\n",
            " a wonderful little production  the filming technique is very unassuming  very old time bbc fashion and gives a comforting  and sometimes discomforting  sense of realism to the entire piece  the actors are extremely well chosen  michael sheen not only   has got all the polari   but he has all the voices down pat too  you can truly see the seamless editing guided by the references to williams  diary entries  not only is it well worth the watching but it is a terrificly written and performed piece  a masterful production about one of the great master s of comedy and his life  the realism really comes home with the little things  the fantasy of the guard which  rather than use the traditional  dream  techniques remains solid then disappears  it plays on our knowledge and our senses  particularly with the scenes concerning orton and halliwell and the sets  particularly of their flat with halliwell s murals decorating every surface  are terribly well done \n",
            "\n",
            "Remove stop_words:\n",
            "['wonderful', 'little', 'production', 'filming', 'technique', 'unassuming', 'old', 'time', 'bbc', 'fashion', 'gives', 'comforting', 'sometimes', 'discomforting', 'sense', 'realism', 'entire', 'piece', 'actors', 'extremely', 'well', 'chosen', 'michael', 'sheen', 'got', 'polari', 'voices', 'pat', 'truly', 'see', 'seamless', 'editing', 'guided', 'references', 'williams', 'diary', 'entries', 'well', 'worth', 'watching', 'terrificly', 'written', 'performed', 'piece', 'masterful', 'production', 'one', 'great', 'master', 'comedy', 'life', 'realism', 'really', 'comes', 'home', 'little', 'things', 'fantasy', 'guard', 'rather', 'use', 'traditional', 'dream', 'techniques', 'remains', 'solid', 'disappears', 'plays', 'knowledge', 'senses', 'particularly', 'scenes', 'concerning', 'orton', 'halliwell', 'sets', 'particularly', 'flat', 'halliwell', 'murals', 'decorating', 'every', 'surface', 'terribly', 'well', 'done']\n",
            "\n",
            "lemmatize\n",
            "['wonderful', 'little', 'production', 'filming', 'technique', 'unassuming', 'old', 'time', 'bbc', 'fashion', 'give', 'comforting', 'sometimes', 'discomforting', 'sense', 'realism', 'entire', 'piece', 'actor', 'extremely', 'well', 'chosen', 'michael', 'sheen', 'got', 'polari', 'voice', 'pat', 'truly', 'see', 'seamless', 'editing', 'guided', 'reference', 'williams', 'diary', 'entry', 'well', 'worth', 'watching', 'terrificly', 'written', 'performed', 'piece', 'masterful', 'production', 'one', 'great', 'master', 'comedy', 'life', 'realism', 'really', 'come', 'home', 'little', 'thing', 'fantasy', 'guard', 'rather', 'use', 'traditional', 'dream', 'technique', 'remains', 'solid', 'disappears', 'play', 'knowledge', 'sens', 'particularly', 'scene', 'concerning', 'orton', 'halliwell', 'set', 'particularly', 'flat', 'halliwell', 'mural', 'decorating', 'every', 'surface', 'terribly', 'well', 'done']\n",
            "\n",
            "Join:\n",
            "wonderful little production filming technique unassuming old time bbc fashion give comforting sometimes discomforting sense realism entire piece actor extremely well chosen michael sheen got polari voice pat truly see seamless editing guided reference williams diary entry well worth watching terrificly written performed piece masterful production one great master comedy life realism really come home little thing fantasy guard rather use traditional dream technique remains solid disappears play knowledge sens particularly scene concerning orton halliwell set particularly flat halliwell mural decorating every surface terribly well done\n",
            "\n"
          ],
          "name": "stdout"
        }
      ]
    },
    {
      "cell_type": "code",
      "metadata": {
        "id": "F6vXjV8fmRwH"
      },
      "source": [
        "def clean_data_review(df: pd.DataFrame) -> list:\r\n",
        "  stop_words = set(stopwords.words('english'))\r\n",
        "  #stemmer = SnowballStemmer(\"english\") \r\n",
        "  lem = WordNetLemmatizer()\r\n",
        "  cleaned_review = []\r\n",
        "  for i in range(df.shape[0]):\r\n",
        "    review = BeautifulSoup(df.iloc[i].review, \"html.parser\").get_text()\r\n",
        "    review = review.lower()\r\n",
        "    review = re.sub('[^a-z0-9]', ' ', review)\r\n",
        "    review = nltk.word_tokenize(review)\r\n",
        "    review = [word for word in review if not word in stop_words]\r\n",
        "    review = [lem.lemmatize(word) for word in review]\r\n",
        "    #review = [stemmer.stem(word) for word in review]\r\n",
        "    review = ' '.join(review)\r\n",
        "    cleaned_review.append(review)\r\n",
        "\r\n",
        "  return cleaned_review"
      ],
      "execution_count": null,
      "outputs": []
    },
    {
      "cell_type": "markdown",
      "metadata": {
        "id": "Q9d9yr7hR3N_"
      },
      "source": [
        "Limpeza dos dados e apresentação das palavras mais comuns após a limpeza."
      ]
    },
    {
      "cell_type": "code",
      "metadata": {
        "colab": {
          "base_uri": "https://localhost:8080/",
          "height": 204
        },
        "id": "clpblixJ54KK",
        "outputId": "c3108873-e964-489a-8e91-e4c1be9fd303"
      },
      "source": [
        "cleaned_review = clean_data_review(df_imdb)\r\n",
        "df_imdb['cleaned_review'] = cleaned_review\r\n",
        "df_imdb.tail()"
      ],
      "execution_count": null,
      "outputs": [
        {
          "output_type": "execute_result",
          "data": {
            "text/html": [
              "<div>\n",
              "<style scoped>\n",
              "    .dataframe tbody tr th:only-of-type {\n",
              "        vertical-align: middle;\n",
              "    }\n",
              "\n",
              "    .dataframe tbody tr th {\n",
              "        vertical-align: top;\n",
              "    }\n",
              "\n",
              "    .dataframe thead th {\n",
              "        text-align: right;\n",
              "    }\n",
              "</style>\n",
              "<table border=\"1\" class=\"dataframe\">\n",
              "  <thead>\n",
              "    <tr style=\"text-align: right;\">\n",
              "      <th></th>\n",
              "      <th>review</th>\n",
              "      <th>sentiment</th>\n",
              "      <th>cleaned_review</th>\n",
              "    </tr>\n",
              "  </thead>\n",
              "  <tbody>\n",
              "    <tr>\n",
              "      <th>49996</th>\n",
              "      <td>I thought this movie did a down right good job...</td>\n",
              "      <td>positive</td>\n",
              "      <td>thought movie right good job creative original...</td>\n",
              "    </tr>\n",
              "    <tr>\n",
              "      <th>49997</th>\n",
              "      <td>Bad plot, bad dialogue, bad acting, idiotic di...</td>\n",
              "      <td>negative</td>\n",
              "      <td>bad plot bad dialogue bad acting idiotic direc...</td>\n",
              "    </tr>\n",
              "    <tr>\n",
              "      <th>49998</th>\n",
              "      <td>\"I am a Catholic taught in parochial elementar...</td>\n",
              "      <td>negative</td>\n",
              "      <td>catholic taught parochial elementary school nu...</td>\n",
              "    </tr>\n",
              "    <tr>\n",
              "      <th>49999</th>\n",
              "      <td>\"I'm going to have to disagree with the previo...</td>\n",
              "      <td>negative</td>\n",
              "      <td>going disagree previous comment side maltin on...</td>\n",
              "    </tr>\n",
              "    <tr>\n",
              "      <th>50000</th>\n",
              "      <td>No one expects the Star Trek movies to be high...</td>\n",
              "      <td>negative</td>\n",
              "      <td>one expects star trek movie high art fan expec...</td>\n",
              "    </tr>\n",
              "  </tbody>\n",
              "</table>\n",
              "</div>"
            ],
            "text/plain": [
              "                                                  review  ...                                     cleaned_review\n",
              "49996  I thought this movie did a down right good job...  ...  thought movie right good job creative original...\n",
              "49997  Bad plot, bad dialogue, bad acting, idiotic di...  ...  bad plot bad dialogue bad acting idiotic direc...\n",
              "49998  \"I am a Catholic taught in parochial elementar...  ...  catholic taught parochial elementary school nu...\n",
              "49999  \"I'm going to have to disagree with the previo...  ...  going disagree previous comment side maltin on...\n",
              "50000  No one expects the Star Trek movies to be high...  ...  one expects star trek movie high art fan expec...\n",
              "\n",
              "[5 rows x 3 columns]"
            ]
          },
          "metadata": {
            "tags": []
          },
          "execution_count": 10
        }
      ]
    },
    {
      "cell_type": "code",
      "metadata": {
        "colab": {
          "base_uri": "https://localhost:8080/"
        },
        "id": "AcOt7EEeye3N",
        "outputId": "769aa01c-41a7-4c79-ba12-ce596ab56d71"
      },
      "source": [
        "print('Top 10 palavras mais comuns no geral:')\r\n",
        "txt = df_imdb.cleaned_review.str.replace(r'\\|', ' ').str.cat(sep=' ')\r\n",
        "words = nltk.tokenize.word_tokenize(txt)\r\n",
        "word_dist = nltk.FreqDist(words)\r\n",
        "print(word_dist.most_common(10))"
      ],
      "execution_count": null,
      "outputs": [
        {
          "output_type": "stream",
          "text": [
            "Top 10 palavras mais comuns no geral:\n",
            "[('movie', 103234), ('film', 93420), ('one', 55429), ('like', 41118), ('time', 31454), ('good', 29852), ('character', 28343), ('story', 25263), ('even', 24854), ('get', 24649)]\n"
          ],
          "name": "stdout"
        }
      ]
    },
    {
      "cell_type": "code",
      "metadata": {
        "colab": {
          "base_uri": "https://localhost:8080/"
        },
        "id": "u7mxRdrd62D7",
        "outputId": "37f596f4-1b44-440a-9e9a-bf2fb5357943"
      },
      "source": [
        "print('Top 10 palavras mais comuns positivas:')\r\n",
        "txt = df_imdb[df_imdb.sentiment == 'positive'].cleaned_review.str.replace(r'\\|', ' ').str.cat(sep=' ')\r\n",
        "words = nltk.tokenize.word_tokenize(txt)\r\n",
        "word_dist = nltk.FreqDist(words)\r\n",
        "print(word_dist.most_common(10))"
      ],
      "execution_count": null,
      "outputs": [
        {
          "output_type": "stream",
          "text": [
            "Top 10 palavras mais comuns positivas:\n",
            "[('film', 49689), ('movie', 44833), ('one', 28278), ('like', 18193), ('time', 16309), ('good', 15089), ('story', 14181), ('character', 14019), ('great', 13009), ('see', 12926)]\n"
          ],
          "name": "stdout"
        }
      ]
    },
    {
      "cell_type": "code",
      "metadata": {
        "colab": {
          "base_uri": "https://localhost:8080/"
        },
        "id": "xU-HxzrX7CKS",
        "outputId": "6ef29fe4-e334-47c9-cd7a-38d32f45b8a5"
      },
      "source": [
        "print('Top 10 palavras mais negativas:')\r\n",
        "txt = df_imdb[df_imdb.sentiment == 'negative'].cleaned_review.str.replace(r'\\|', ' ').str.cat(sep=' ')\r\n",
        "words = nltk.tokenize.word_tokenize(txt)\r\n",
        "word_dist = nltk.FreqDist(words)\r\n",
        "print(word_dist.most_common(10))"
      ],
      "execution_count": null,
      "outputs": [
        {
          "output_type": "stream",
          "text": [
            "Top 10 palavras mais negativas:\n",
            "[('movie', 58401), ('film', 43731), ('one', 27151), ('like', 22925), ('even', 15243), ('time', 15145), ('good', 14763), ('bad', 14714), ('character', 14324), ('would', 14005)]\n"
          ],
          "name": "stdout"
        }
      ]
    },
    {
      "cell_type": "markdown",
      "metadata": {
        "id": "x2eR_Uv3LcUc"
      },
      "source": [
        "*Poderiam ser feitos experimentos administrando melhor as palavras mais comuns, pois, notou se a presença de muitas palavras semelhantes entre as top 10 mais utilizadas para avaliações postivias e negativas.*\r\n",
        "\r\n",
        "Abaixo será utilizada a técnica hould-out para avaliação dos dados. Será dividida a base em 80% treino e 20% testes, balanceando os dados pelo sentimento positivo/negativo. Também serão transformados os dados para aplicação no modelo de regressão logística."
      ]
    },
    {
      "cell_type": "code",
      "metadata": {
        "id": "2RvV8NcQoWJC"
      },
      "source": [
        "# Realizo um hould-out 80% treino / 20% teste, balanceando\r\n",
        "X_train, X_test, y_train, y_test = train_test_split(df_imdb[['review', 'cleaned_review']], df_imdb['sentiment'], test_size=0.20, random_state=42, stratify=df_imdb['sentiment'], shuffle=True)\r\n",
        "\r\n",
        "#count_vec = CountVectorizer()\r\n",
        "\r\n",
        "# Para o modelo de regressão logística é necessário realizar a transformação do texto. \r\n",
        "# Com isto, será utilizada medida estatística TF-IDF bigram, que auxilia no balanceameento dos termos mais frequentes/menos frequentes\r\n",
        "tfidf_vec = TfidfVectorizer(ngram_range=(1, 2)) \r\n",
        "X_train_tfidf = tfidf_vec.fit_transform(X_train['cleaned_review'])\r\n",
        "X_test_tfidf = tfidf_vec.transform(X_test['cleaned_review'])\r\n",
        "\r\n",
        "# transformo os termos \"positive\" e \"negative\" em valores numéricos\r\n",
        "y_train = (y_train.replace({'positive': 1, 'negative': 0})).values\r\n",
        "y_test  = (y_test.replace({'positive': 1, 'negative': 0})).values"
      ],
      "execution_count": null,
      "outputs": []
    },
    {
      "cell_type": "markdown",
      "metadata": {
        "id": "D6RCQ3yoR_xm"
      },
      "source": [
        "Nesta última etapa, serão criados os modelos e realizada a comparação entre eles através da acurácia de acertos."
      ]
    },
    {
      "cell_type": "code",
      "metadata": {
        "id": "xGuardaf1G2v"
      },
      "source": [
        "linear_svc = LogisticRegression()\r\n",
        "linear_svc.fit(X_train_tfidf, y_train)\r\n",
        "y_pred = linear_svc.predict(X_test_tfidf)"
      ],
      "execution_count": null,
      "outputs": []
    },
    {
      "cell_type": "code",
      "metadata": {
        "colab": {
          "base_uri": "https://localhost:8080/"
        },
        "id": "MMAknXKKkg6i",
        "outputId": "6bf9c324-8e3d-4cc5-de27-d5634800413b"
      },
      "source": [
        "tp_len = len(y_test[(y_test == y_pred) & (y_test == 1)])\r\n",
        "tn_len = len(y_test[(y_test == y_pred) & (y_test == 0)])\r\n",
        "positive_len = len(y_test[y_test == 1])\r\n",
        "negative_len = len(y_test[y_test == 0])\r\n",
        "\r\n",
        "print('Logistic regression model:')\r\n",
        "print(f'TP count: {tp_len}/{positive_len} = {(tp_len/positive_len):.4f}%')\r\n",
        "print(f'TN count: {tn_len}/{negative_len} = {(tn_len/negative_len):.4f}%')\r\n",
        "print(f'General accuracy: {len(y_test[y_pred == y_test]) / len(y_test):.4f}%')"
      ],
      "execution_count": null,
      "outputs": [
        {
          "output_type": "stream",
          "text": [
            "Logistic regression model:\n",
            "TP count: 4537/5000 = 0.9074%\n",
            "TN count: 4416/5000 = 0.8832%\n",
            "General accuracy: 0.8953%\n"
          ],
          "name": "stdout"
        }
      ]
    },
    {
      "cell_type": "code",
      "metadata": {
        "colab": {
          "base_uri": "https://localhost:8080/",
          "height": 281
        },
        "id": "V6occmhyRYwd",
        "outputId": "f9f2a9e5-d56a-4c47-b059-333fa78ecc48"
      },
      "source": [
        "cm = confusion_matrix(y_test, y_pred)\r\n",
        "cm = np.transpose(cm.T / cm.astype(np.float).sum(axis=1))\r\n",
        "\r\n",
        "plt.title('Matriz de confusão - Predição das avaliações de filmes feita pelo modelo de regressão logística')\r\n",
        "sns.heatmap(cm, annot=True, fmt='.4f', cmap='rocket_r', xticklabels=['negative','positive'], yticklabels=['negative','positive'])\r\n",
        "plt.show()"
      ],
      "execution_count": null,
      "outputs": [
        {
          "output_type": "display_data",
          "data": {
            "image/png": "[encoded data removed]",
            "text/plain": [
              "<Figure size 432x288 with 2 Axes>"
            ]
          },
          "metadata": {
            "tags": [],
            "needs_background": "light"
          }
        }
      ]
    },
    {
      "cell_type": "code",
      "metadata": {
        "id": "16efpBH89Xrb"
      },
      "source": [
        "def sia_predict(sia: SentimentIntensityAnalyzer, tx: str) -> int:\r\n",
        "    return 1 if sia.polarity_scores(tx)[\"compound\"] > 0 else 0\r\n",
        "\r\n",
        "sia_y_pred = np.array([])\r\n",
        "\r\n",
        "sia = SentimentIntensityAnalyzer()\r\n",
        "\r\n",
        "for i, tx in enumerate(X_test.cleaned_review):\r\n",
        "  sia_y_pred = np.append(sia_y_pred, sia_predict(sia, tx))"
      ],
      "execution_count": null,
      "outputs": []
    },
    {
      "cell_type": "code",
      "metadata": {
        "colab": {
          "base_uri": "https://localhost:8080/"
        },
        "id": "0OL_7RqJIq5f",
        "outputId": "871ddb18-b2be-4c8c-84db-8da4654d3563"
      },
      "source": [
        "print('NLTK sentiment intensity analyzer:')\r\n",
        "\r\n",
        "sia_tp_len = len(y_test[(y_test == sia_y_pred) & (y_test == 1)])\r\n",
        "sia_tn_len = len(y_test[(y_test == sia_y_pred) & (y_test == 0)])\r\n",
        "\r\n",
        "print(f'TP count: {sia_tp_len}/{positive_len} = {(sia_tp_len/positive_len):.4f}%')\r\n",
        "print(f'TN count: {sia_tn_len}/{negative_len} = {(sia_tn_len/negative_len):.4f}%')\r\n",
        "print(f'General accuracy: {len(y_test[sia_y_pred == y_test]) / len(y_test):.4f}%')"
      ],
      "execution_count": null,
      "outputs": [
        {
          "output_type": "stream",
          "text": [
            "NLTK sentiment intensity analyzer:\n",
            "TP count: 4367/5000 = 0.8734%\n",
            "TN count: 2380/5000 = 0.4760%\n",
            "General accuracy: 0.6747%\n"
          ],
          "name": "stdout"
        }
      ]
    },
    {
      "cell_type": "code",
      "metadata": {
        "colab": {
          "base_uri": "https://localhost:8080/",
          "height": 281
        },
        "id": "qRsA7DtQSXqk",
        "outputId": "8f9b43a4-d893-48fe-a4da-78d2192a2d30"
      },
      "source": [
        "cm = confusion_matrix(y_test, sia_y_pred)\r\n",
        "cm = np.transpose(cm.T / cm.astype(np.float).sum(axis=1))\r\n",
        "\r\n",
        "plt.title('Matriz de confusão - Predição das avaliações de filmes feita pelo modelo do NLTK')\r\n",
        "sns.heatmap(cm, annot=True, fmt='.4f', cmap='rocket_r', xticklabels=['negative','positive'], yticklabels=['negative','positive'])\r\n",
        "plt.show()"
      ],
      "execution_count": null,
      "outputs": [
        {
          "output_type": "display_data",
          "data": {
            "image/png": "[encoded data removed]",
            "text/plain": [
              "<Figure size 432x288 with 2 Axes>"
            ]
          },
          "metadata": {
            "tags": [],
            "needs_background": "light"
          }
        }
      ]
    },
    {
      "cell_type": "markdown",
      "metadata": {
        "id": "MStIJJqkQpdU"
      },
      "source": [
        "Com base nas execuções acima, o modelo de regressão logística obteve uma acurária maior em relação ao modelo de análise de sentimentos do NLTK. A acurácia das avaliações positivas ficou um pouco semelhante entre os dois modelos, porém, nas avaliações negativas, o modelo do NLTK não obteve muita performance."
      ]
    }
  ]
}
